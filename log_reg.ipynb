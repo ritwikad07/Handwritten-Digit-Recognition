{
  "nbformat": 4,
  "nbformat_minor": 0,
  "metadata": {
    "colab": {
      "name": "Untitled2.ipynb",
      "provenance": []
    },
    "kernelspec": {
      "name": "python3",
      "display_name": "Python 3"
    },
    "language_info": {
      "name": "python"
    }
  },
  "cells": [
    {
      "cell_type": "code",
      "metadata": {
        "id": "Pg7XF49xsliX"
      },
      "source": [
        "import numpy as np \n",
        "import pandas as pd \n",
        "from matplotlib import pyplot as plt\n"
      ],
      "execution_count": 1,
      "outputs": []
    },
    {
      "cell_type": "code",
      "metadata": {
        "colab": {
          "base_uri": "https://localhost:8080/"
        },
        "id": "axTKE-FQsmye",
        "outputId": "0a1bc7f8-2a58-4340-b9ac-3d31d0855dd9"
      },
      "source": [
        "!pip install gdown\n",
        "!gdown --id 1xIYCrCOo3cPIgslEzI11_cQ_2QFROTHv"
      ],
      "execution_count": 3,
      "outputs": [
        {
          "output_type": "stream",
          "text": [
            "Requirement already satisfied: gdown in /usr/local/lib/python3.7/dist-packages (3.6.4)\n",
            "Requirement already satisfied: tqdm in /usr/local/lib/python3.7/dist-packages (from gdown) (4.41.1)\n",
            "Requirement already satisfied: requests in /usr/local/lib/python3.7/dist-packages (from gdown) (2.23.0)\n",
            "Requirement already satisfied: six in /usr/local/lib/python3.7/dist-packages (from gdown) (1.15.0)\n",
            "Requirement already satisfied: certifi>=2017.4.17 in /usr/local/lib/python3.7/dist-packages (from requests->gdown) (2020.12.5)\n",
            "Requirement already satisfied: chardet<4,>=3.0.2 in /usr/local/lib/python3.7/dist-packages (from requests->gdown) (3.0.4)\n",
            "Requirement already satisfied: idna<3,>=2.5 in /usr/local/lib/python3.7/dist-packages (from requests->gdown) (2.10)\n",
            "Requirement already satisfied: urllib3!=1.25.0,!=1.25.1,<1.26,>=1.21.1 in /usr/local/lib/python3.7/dist-packages (from requests->gdown) (1.24.3)\n",
            "Downloading...\n",
            "From: https://drive.google.com/uc?id=1xIYCrCOo3cPIgslEzI11_cQ_2QFROTHv\n",
            "To: /content/data.csv\n",
            "20.4MB [00:00, 76.7MB/s]\n"
          ],
          "name": "stdout"
        }
      ]
    },
    {
      "cell_type": "code",
      "metadata": {
        "id": "u2FzVGaUspXt"
      },
      "source": [
        "data = pd.read_csv('/content/data.csv',header=None)"
      ],
      "execution_count": 4,
      "outputs": []
    },
    {
      "cell_type": "code",
      "metadata": {
        "id": "zemFfuIBs5dZ"
      },
      "source": [
        "D0 = data.copy();D1 = data.copy();D2 = data.copy();D3 = data.copy();D4 = data.copy();D5 =data.copy();D6 = data.copy();D7 = data.copy();D8 = data.copy();D9 = data.copy()"
      ],
      "execution_count": 5,
      "outputs": []
    },
    {
      "cell_type": "code",
      "metadata": {
        "id": "zTmdJg_Rs8ex"
      },
      "source": [
        "datasets = [D0,D1,D2,D3,D4,D5,D6,D7,D8,D9]"
      ],
      "execution_count": 6,
      "outputs": []
    },
    {
      "cell_type": "code",
      "metadata": {
        "id": "9wryqGrQtAKs"
      },
      "source": [
        "for i in range(10):\n",
        "  for j in range(5000):\n",
        "    if datasets[i].at[j,400] == i:\n",
        "      datasets[i].at[j,400] = 1\n",
        "    else:\n",
        "      datasets[i].at[j,400] = 0"
      ],
      "execution_count": 7,
      "outputs": []
    },
    {
      "cell_type": "code",
      "metadata": {
        "id": "A1LLfTABtCHV"
      },
      "source": [
        "#TrainTest_datadict['key'][0] ==> X && TrainTest_datadict['key'][1] ==> y\n",
        "TrainTest_datadict = {}  \n",
        " #399 --> X 400 --> y \n",
        "for i in range(10):\n",
        "  X = datasets[i].iloc[:,:399]\n",
        "  X = X.T\n",
        "  y = datasets[i].iloc[:,-1]\n",
        "  y = np.array([y])\n",
        "  TrainTest_datadict['D'+str(i)] = [X,y]"
      ],
      "execution_count": 8,
      "outputs": []
    },
    {
      "cell_type": "code",
      "metadata": {
        "colab": {
          "base_uri": "https://localhost:8080/"
        },
        "id": "aFvbzlJptE0M",
        "outputId": "c21aa539-ae4d-4f50-9835-be97dae8b3b9"
      },
      "source": [
        "itterations = 10000000   #random big value \n",
        "alpha = 0.160 \n",
        "m = 5000\n",
        "cost_values = []\n",
        "trained_parameters = []\n",
        "\n",
        "for trainsets in range(10):\n",
        "  X = TrainTest_datadict['D'+str(trainsets)][0] \n",
        "  y = TrainTest_datadict['D'+str(trainsets)][1]\n",
        "  weights = np.random.randn(1,399)\n",
        "  bias = 0 \n",
        "  costfunc_values = []\n",
        "  k = 0\n",
        "  print('Training for dataset '+str(trainsets))\n",
        "  for i in range(1,itterations+1):\n",
        "    #logistic function\n",
        "    z = np.dot(weights,X) + bias \n",
        "    hypothesis = 1/(1 + np.exp(-z)) \n",
        "\n",
        "    #cost function\n",
        "    j = 1/m*(-1*(np.sum(y*np.log(hypothesis) + (1-y)*np.log(1-hypothesis))))\n",
        "    costfunc_values.append(j)\n",
        "    k+=1\n",
        "\n",
        "    #gradient decent\n",
        "    dw =  1/m * np.dot(hypothesis-y,X.T)\n",
        "    db =  1/m * np.sum(hypothesis-y)\n",
        "    weights = weights - alpha*dw\n",
        "    bias = bias - alpha*db\n",
        "#stop training\n",
        "    if i%2000 == 0:\n",
        "      print('running @ ',j)\n",
        "    if i%2 == 0:\n",
        "      if abs(j-costfunc_values[-2])<0.000001:\n",
        "        if abs(j-costfunc_values[-3])<0.000001:\n",
        "          break \n",
        "  cost_values.append(costfunc_values)  \n",
        "  trained_parameters.append([weights,bias])      \n",
        "  print('itteration number:',k)"
      ],
      "execution_count": 11,
      "outputs": [
        {
          "output_type": "stream",
          "text": [
            "Training for dataset 0\n",
            "running @  0.03799361150568229\n",
            "running @  0.028704202706539048\n",
            "running @  0.02426303465887884\n",
            "running @  0.021445639439136445\n",
            "running @  0.01943458130734186\n",
            "running @  0.01790107957317318\n",
            "running @  0.016681097159276122\n",
            "itteration number: 14974\n",
            "Training for dataset 1\n",
            "running @  0.04333101086532455\n",
            "running @  0.035668879359943534\n",
            "running @  0.03182406252377164\n",
            "running @  0.029300776936162624\n",
            "running @  0.027442187192649507\n",
            "running @  0.02598108715140612\n",
            "running @  0.02478200623544195\n",
            "itteration number: 15162\n",
            "Training for dataset 2\n",
            "running @  0.09673075172462878\n",
            "running @  0.08343363557462753\n",
            "running @  0.076954992325004\n",
            "running @  0.07279463474255776\n",
            "running @  0.06977601819868781\n",
            "running @  0.0674384561926703\n",
            "running @  0.06555469006895381\n",
            "running @  0.0639937718683148\n",
            "running @  0.0626726421279462\n",
            "running @  0.06153536668224255\n",
            "itteration number: 20870\n",
            "Training for dataset 3\n",
            "running @  0.10259699072927918\n",
            "running @  0.08834665867406684\n",
            "running @  0.08140957243894119\n",
            "running @  0.07715883073445601\n",
            "running @  0.07424821094845184\n",
            "running @  0.0721033394373718\n",
            "running @  0.07043722353825507\n",
            "running @  0.06909184118335863\n",
            "running @  0.06797345245468914\n",
            "itteration number: 18330\n",
            "Training for dataset 4\n",
            "running @  0.08593752760888244\n",
            "running @  0.0695969924319205\n",
            "running @  0.061696317193786473\n",
            "running @  0.05668743667820767\n",
            "running @  0.053172778634928856\n",
            "running @  0.050545992171571845\n",
            "running @  0.04848689656859233\n",
            "running @  0.04681139979039076\n",
            "running @  0.045407808546640914\n",
            "running @  0.04420515208725342\n",
            "itteration number: 21734\n",
            "Training for dataset 5\n",
            "running @  0.10312155319785407\n",
            "running @  0.08636338285607109\n",
            "running @  0.07909092170404325\n",
            "running @  0.0746761718452815\n",
            "running @  0.07160257122837199\n",
            "running @  0.06929372306416245\n",
            "running @  0.06747016252959896\n",
            "running @  0.06597739754119088\n",
            "running @  0.06472225837724534\n",
            "running @  0.0636447404297956\n",
            "itteration number: 20052\n",
            "Training for dataset 6\n",
            "running @  0.054256826009867566\n",
            "running @  0.04362343732338062\n",
            "running @  0.03907549667572357\n",
            "running @  0.03633410532901966\n",
            "running @  0.03439597993222806\n",
            "running @  0.03289594208314919\n",
            "running @  0.031666421131306924\n",
            "itteration number: 15632\n",
            "Training for dataset 7\n",
            "running @  0.07212189927171545\n",
            "running @  0.05966992710513664\n",
            "running @  0.053864406996069016\n",
            "running @  0.050189842050085566\n",
            "running @  0.04757790005167793\n",
            "running @  0.04560258213651019\n",
            "running @  0.0440412280336858\n",
            "running @  0.04276279587746161\n",
            "itteration number: 17934\n",
            "Training for dataset 8\n",
            "running @  0.13258261944818978\n",
            "running @  0.11241891840682909\n",
            "running @  0.104390617819295\n",
            "running @  0.0997186167593063\n",
            "running @  0.09653408880443466\n",
            "running @  0.0941683515797369\n",
            "running @  0.09231236925507237\n",
            "running @  0.09080071498921963\n",
            "running @  0.08953575951107892\n",
            "running @  0.0884555595572178\n",
            "itteration number: 20044\n",
            "Training for dataset 9\n",
            "running @  0.12230386624326094\n",
            "running @  0.10223774337205112\n",
            "running @  0.09482583963277812\n",
            "running @  0.09062781116149068\n",
            "running @  0.08777257154524533\n",
            "running @  0.08563862971203492\n",
            "running @  0.08395100329232756\n",
            "running @  0.08256484237055847\n",
            "running @  0.08139480440526223\n",
            "itteration number: 19098\n"
          ],
          "name": "stdout"
        }
      ]
    },
    {
      "cell_type": "code",
      "metadata": {
        "colab": {
          "base_uri": "https://localhost:8080/",
          "height": 231
        },
        "id": "WTq-V4h_tlfj",
        "outputId": "443c025d-128f-4d7b-b2ff-12c52e6ba5cf"
      },
      "source": [
        "inputs = data.iloc[:,:399]\n",
        "inputs = inputs.T\n",
        "outputs = data.iloc[:,-1] \n",
        "outputs = np.array(outputs)\n",
        "accuratepredicts = 0                \n",
        "for i in range(5000):\n",
        "  probabilities = []\n",
        "  for j in range(10):\n",
        "    weights = trained_parameters[j][0]\n",
        "    bias = trained_parameters[j][1]\n",
        "    z = np.dot(weights,inputs.iloc[:,i].T)+bias\n",
        "    hypothesis = 1/(1 + np.exp(-line)) \n",
        "    probabilities.append(hypothesis)\n",
        "  predict = probabilities.index(max(probabilities)) \n",
        "  if outputs.T[i] == predict:\n",
        "    accuratepredicts+=1\n",
        "print(accuratepredicts)"
      ],
      "execution_count": 13,
      "outputs": [
        {
          "output_type": "error",
          "ename": "NameError",
          "evalue": "ignored",
          "traceback": [
            "\u001b[0;31m---------------------------------------------------------------------------\u001b[0m",
            "\u001b[0;31mNameError\u001b[0m                                 Traceback (most recent call last)",
            "\u001b[0;32m<ipython-input-13-fdd558189abc>\u001b[0m in \u001b[0;36m<module>\u001b[0;34m()\u001b[0m\n\u001b[1;32m     10\u001b[0m     \u001b[0mbias\u001b[0m \u001b[0;34m=\u001b[0m \u001b[0mtrained_parameters\u001b[0m\u001b[0;34m[\u001b[0m\u001b[0mj\u001b[0m\u001b[0;34m]\u001b[0m\u001b[0;34m[\u001b[0m\u001b[0;36m1\u001b[0m\u001b[0;34m]\u001b[0m\u001b[0;34m\u001b[0m\u001b[0;34m\u001b[0m\u001b[0m\n\u001b[1;32m     11\u001b[0m     \u001b[0mz\u001b[0m \u001b[0;34m=\u001b[0m \u001b[0mnp\u001b[0m\u001b[0;34m.\u001b[0m\u001b[0mdot\u001b[0m\u001b[0;34m(\u001b[0m\u001b[0mweights\u001b[0m\u001b[0;34m,\u001b[0m\u001b[0minputs\u001b[0m\u001b[0;34m.\u001b[0m\u001b[0miloc\u001b[0m\u001b[0;34m[\u001b[0m\u001b[0;34m:\u001b[0m\u001b[0;34m,\u001b[0m\u001b[0mi\u001b[0m\u001b[0;34m]\u001b[0m\u001b[0;34m.\u001b[0m\u001b[0mT\u001b[0m\u001b[0;34m)\u001b[0m\u001b[0;34m+\u001b[0m\u001b[0mbias\u001b[0m\u001b[0;34m\u001b[0m\u001b[0;34m\u001b[0m\u001b[0m\n\u001b[0;32m---> 12\u001b[0;31m     \u001b[0mhypothesis\u001b[0m \u001b[0;34m=\u001b[0m \u001b[0;36m1\u001b[0m\u001b[0;34m/\u001b[0m\u001b[0;34m(\u001b[0m\u001b[0;36m1\u001b[0m \u001b[0;34m+\u001b[0m \u001b[0mnp\u001b[0m\u001b[0;34m.\u001b[0m\u001b[0mexp\u001b[0m\u001b[0;34m(\u001b[0m\u001b[0;34m-\u001b[0m\u001b[0mline\u001b[0m\u001b[0;34m)\u001b[0m\u001b[0;34m)\u001b[0m\u001b[0;34m\u001b[0m\u001b[0;34m\u001b[0m\u001b[0m\n\u001b[0m\u001b[1;32m     13\u001b[0m     \u001b[0mprobabilities\u001b[0m\u001b[0;34m.\u001b[0m\u001b[0mappend\u001b[0m\u001b[0;34m(\u001b[0m\u001b[0mhypothesis\u001b[0m\u001b[0;34m)\u001b[0m\u001b[0;34m\u001b[0m\u001b[0;34m\u001b[0m\u001b[0m\n\u001b[1;32m     14\u001b[0m   \u001b[0mpredict\u001b[0m \u001b[0;34m=\u001b[0m \u001b[0mprobabilities\u001b[0m\u001b[0;34m.\u001b[0m\u001b[0mindex\u001b[0m\u001b[0;34m(\u001b[0m\u001b[0mmax\u001b[0m\u001b[0;34m(\u001b[0m\u001b[0mprobabilities\u001b[0m\u001b[0;34m)\u001b[0m\u001b[0;34m)\u001b[0m\u001b[0;34m\u001b[0m\u001b[0;34m\u001b[0m\u001b[0m\n",
            "\u001b[0;31mNameError\u001b[0m: name 'line' is not defined"
          ]
        }
      ]
    },
    {
      "cell_type": "code",
      "metadata": {
        "colab": {
          "base_uri": "https://localhost:8080/"
        },
        "id": "aUmSViXi146v",
        "outputId": "822c1b58-ae4f-4a50-8585-8973f79c95cd"
      },
      "source": [
        "\n",
        "for datasetnum in range(10):\n",
        "  X = TrainTest_datadict['D'+str(datasetnum)][0]\n",
        "  y = TrainTest_datadict['D'+str(datasetnum)][1]\n",
        "  weights = trained_parameters[datasetnum][0]\n",
        "  bias = trained_parameters[datasetnum][1]\n",
        "  correct_predictions = 0 \n",
        "  for i in range(5000):\n",
        "    z = np.dot(weights,X.T.iloc[i,:])+bias\n",
        "    hypothesis = 1/(1 + np.exp(-z))\n",
        "    if np.logical_and(hypothesis >= 0.5,y.T[i,0] == 1):\n",
        "        correct_predictions+=1\n",
        "    if np.logical_and(hypothesis < 0.5,y.T[i,0] == 0):\n",
        "        correct_predictions+=1    \n",
        "  #print(correct_predictions)      \n",
        "  acc = (correct_predictions/5000)*100\n",
        "  print('accuracy for dataset '+str(datasetnum),\" = \",acc)"
      ],
      "execution_count": 14,
      "outputs": [
        {
          "output_type": "stream",
          "text": [
            "accuracy for dataset 0  =  99.62\n",
            "accuracy for dataset 1  =  99.28\n",
            "accuracy for dataset 2  =  98.06\n",
            "accuracy for dataset 3  =  98.06\n",
            "accuracy for dataset 4  =  98.61999999999999\n",
            "accuracy for dataset 5  =  97.94\n",
            "accuracy for dataset 6  =  99.18\n",
            "accuracy for dataset 7  =  98.7\n",
            "accuracy for dataset 8  =  96.84\n",
            "accuracy for dataset 9  =  97.34\n"
          ],
          "name": "stdout"
        }
      ]
    },
    {
      "cell_type": "code",
      "metadata": {
        "colab": {
          "base_uri": "https://localhost:8080/"
        },
        "id": "jfvrcjhI2zj-",
        "outputId": "3d2bced8-ed26-4171-c4f8-d0d90d2443b8"
      },
      "source": [
        "inputs = data.iloc[:,:399]\n",
        "inputs = inputs.T\n",
        "outputs = data.iloc[:,-1] \n",
        "outputs = np.array(outputs)\n",
        "accuratepredicts = 0                \n",
        "for i in range(5000):\n",
        "  probabilities = []\n",
        "  for j in range(10):\n",
        "    weights = trained_parameters[j][0]\n",
        "    bias = trained_parameters[j][1]\n",
        "    z = np.dot(weights,inputs.iloc[:,i].T)+bias\n",
        "    hypothesis = 1/(1 + np.exp(-z)) \n",
        "    probabilities.append(hypothesis)\n",
        "  predict = probabilities.index(max(probabilities)) \n",
        "  if outputs.T[i] == predict:\n",
        "    accuratepredicts+=1\n",
        "print(accuratepredicts)"
      ],
      "execution_count": 16,
      "outputs": [
        {
          "output_type": "stream",
          "text": [
            "4696\n"
          ],
          "name": "stdout"
        }
      ]
    },
    {
      "cell_type": "code",
      "metadata": {
        "colab": {
          "base_uri": "https://localhost:8080/"
        },
        "id": "wFqSGUP93D8m",
        "outputId": "0f94cf45-b923-401d-e88e-c1f63f3bdb6a"
      },
      "source": [
        "(accuratepredicts/5000)*100\n"
      ],
      "execution_count": 17,
      "outputs": [
        {
          "output_type": "execute_result",
          "data": {
            "text/plain": [
              "93.92"
            ]
          },
          "metadata": {
            "tags": []
          },
          "execution_count": 17
        }
      ]
    },
    {
      "cell_type": "code",
      "metadata": {
        "id": "FVF9TO6G3jnq"
      },
      "source": [
        ""
      ],
      "execution_count": null,
      "outputs": []
    }
  ]
}